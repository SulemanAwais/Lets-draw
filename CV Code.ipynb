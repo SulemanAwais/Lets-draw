{
 "cells": [
  {
   "cell_type": "markdown",
   "metadata": {
    "id": "T7wLfrAAyHdy"
   },
   "source": [
    "**Transfer Learning**\n",
    "\n",
    "\n",
    "* Keras contains pretrained models for image classification which are trained on Imagenet data. \n",
    "* Imagenet is a large collection of image data containing 1000 categories of images. \n",
    "* These pretrained models are capable of classifying any image that falls into these 1000 categories of images."
   ]
  },
  {
   "cell_type": "code",
   "execution_count": 1,
   "metadata": {
    "id": "DDCWHUeYztCF"
   },
   "outputs": [],
   "source": [
    "dataset_path = 'output_images/'"
   ]
  },
  {
   "cell_type": "code",
   "execution_count": 2,
   "metadata": {
    "id": "TX1RIt7S8gCo"
   },
   "outputs": [],
   "source": [
    "seed_value = 0\n",
    "\n",
    "import os\n",
    "os.environ['PYTHONHASHSEED']=str(seed_value)\n",
    "\n",
    "import random\n",
    "random.seed(seed_value)\n",
    "\n",
    "import cv2\n",
    "\n",
    "import numpy as np\n",
    "np.random.seed(seed_value)\n",
    "\n",
    "import tensorflow as tf\n",
    "tf.random.set_seed(seed_value)\n",
    "\n",
    "\n",
    "import matplotlib.pyplot as plt\n",
    "from tensorflow.keras.utils import to_categorical"
   ]
  },
  {
   "cell_type": "markdown",
   "metadata": {
    "id": "HeSnwt5_-t8z"
   },
   "source": [
    "**Load the Data**"
   ]
  },
  {
   "cell_type": "code",
   "execution_count": 3,
   "metadata": {
    "id": "qrG0kOyl1vD7"
   },
   "outputs": [],
   "source": [
    "# lists to hold data\n",
    "\n",
    "images = []\n",
    "labels = []"
   ]
  },
  {
   "cell_type": "code",
   "execution_count": 4,
   "metadata": {
    "colab": {
     "base_uri": "https://localhost:8080/"
    },
    "executionInfo": {
     "elapsed": 25,
     "status": "ok",
     "timestamp": 1654043413138,
     "user": {
      "displayName": "Adeela Islam",
      "userId": "03687650921686729008"
     },
     "user_tz": -300
    },
    "id": "DfZdhLFk0-Ib",
    "outputId": "d4d3f99c-7a4e-4a6b-f90c-6ced47ca599d"
   },
   "outputs": [
    {
     "data": {
      "text/plain": [
       "['candle', 'car', 'cat', 'circle', 'house']"
      ]
     },
     "execution_count": 4,
     "metadata": {},
     "output_type": "execute_result"
    }
   ],
   "source": [
    "# listing all folder names in the specified path\n",
    "folders = os.listdir(dataset_path)\n",
    "folders"
   ]
  },
  {
   "cell_type": "code",
   "execution_count": 5,
   "metadata": {
    "colab": {
     "base_uri": "https://localhost:8080/"
    },
    "executionInfo": {
     "elapsed": 20,
     "status": "ok",
     "timestamp": 1654043413138,
     "user": {
      "displayName": "Adeela Islam",
      "userId": "03687650921686729008"
     },
     "user_tz": -300
    },
    "id": "vZqlLd1a_8Js",
    "outputId": "b2df1189-69db-4cd3-e70b-015ea53aa1aa"
   },
   "outputs": [
    {
     "data": {
      "text/plain": [
       "{'candle': 0, 'car': 1, 'cat': 2, 'circle': 3, 'house': 4}"
      ]
     },
     "execution_count": 5,
     "metadata": {},
     "output_type": "execute_result"
    }
   ],
   "source": [
    "# Creating dictionaries to map folder names\n",
    "count = 0\n",
    "name_mapping_dict = dict()\n",
    "\n",
    "for folder_name in folders:\n",
    "  name_mapping_dict[folder_name] = count\n",
    "  count += 1\n",
    "\n",
    "\n",
    "name_mapping_dict"
   ]
  },
  {
   "cell_type": "code",
   "execution_count": 6,
   "metadata": {
    "colab": {
     "base_uri": "https://localhost:8080/"
    },
    "executionInfo": {
     "elapsed": 16,
     "status": "ok",
     "timestamp": 1654043413139,
     "user": {
      "displayName": "Adeela Islam",
      "userId": "03687650921686729008"
     },
     "user_tz": -300
    },
    "id": "ZHo2SWCMdkCe",
    "outputId": "a4c6a1f9-63f8-4d1c-8032-dd5d55535518"
   },
   "outputs": [
    {
     "name": "stdout",
     "output_type": "stream",
     "text": [
      "{0: 'candle', 1: 'car', 2: 'cat', 3: 'circle', 4: 'house'}\n"
     ]
    }
   ],
   "source": [
    "inv_name_mapping_dict =  {v: k for k, v in name_mapping_dict.items()}\n",
    "\n",
    "print(inv_name_mapping_dict)"
   ]
  },
  {
   "cell_type": "code",
   "execution_count": 7,
   "metadata": {
    "id": "OavWah_tEdZA"
   },
   "outputs": [],
   "source": [
    "# Setting image size\n",
    "img_size = 150"
   ]
  },
  {
   "cell_type": "markdown",
   "metadata": {
    "id": "Tfo7AVvCPJQV"
   },
   "source": [
    "**Pre-process dataset**"
   ]
  },
  {
   "cell_type": "code",
   "execution_count": 8,
   "metadata": {
    "colab": {
     "base_uri": "https://localhost:8080/"
    },
    "executionInfo": {
     "elapsed": 68229,
     "status": "ok",
     "timestamp": 1654043481356,
     "user": {
      "displayName": "Adeela Islam",
      "userId": "03687650921686729008"
     },
     "user_tz": -300
    },
    "id": "pbtYv5Zt1MzP",
    "outputId": "05668ba9-d033-4cc2-d832-58f77a193899"
   },
   "outputs": [
    {
     "name": "stdout",
     "output_type": "stream",
     "text": [
      "Processing folder: candle\n",
      "Processing folder: car\n",
      "Processing folder: cat\n",
      "Processing folder: circle\n",
      "Processing folder: house\n"
     ]
    }
   ],
   "source": [
    "# looping through each folder and getting images and creating labels\n",
    "for folder in folders:\n",
    "  print(f'Processing folder: {folder}')\n",
    "  filenames = os.listdir(dataset_path+folder+'/')\n",
    "\n",
    "  for fname in filenames:\n",
    "    img = plt.imread(dataset_path+folder+'/'+fname)\n",
    "    img = cv2.resize(img, (img_size, img_size))\n",
    "    images.append(img)\n",
    "    labels.append(name_mapping_dict[folder])"
   ]
  },
  {
   "cell_type": "code",
   "execution_count": 9,
   "metadata": {
    "id": "zKbghJdP3htI"
   },
   "outputs": [],
   "source": [
    "# Converting lists to numpy arrays for easy matrix operations\n",
    "images = np.array(images)\n",
    "labels = np.array(labels)"
   ]
  },
  {
   "cell_type": "code",
   "execution_count": 10,
   "metadata": {
    "colab": {
     "base_uri": "https://localhost:8080/"
    },
    "executionInfo": {
     "elapsed": 24,
     "status": "ok",
     "timestamp": 1654043481360,
     "user": {
      "displayName": "Adeela Islam",
      "userId": "03687650921686729008"
     },
     "user_tz": -300
    },
    "id": "k6ubFi46Babu",
    "outputId": "531a46ad-a1a4-4c79-872a-54d7d09a91af"
   },
   "outputs": [
    {
     "name": "stdout",
     "output_type": "stream",
     "text": [
      "images shape :  (10000, 150, 150, 3)\n",
      "labels shape :  (10000,)\n"
     ]
    }
   ],
   "source": [
    "print('images shape : ', images.shape)\n",
    "print('labels shape : ', labels.shape)"
   ]
  },
  {
   "cell_type": "code",
   "execution_count": 11,
   "metadata": {
    "colab": {
     "base_uri": "https://localhost:8080/",
     "height": 336
    },
    "executionInfo": {
     "elapsed": 2680,
     "status": "ok",
     "timestamp": 1654043484020,
     "user": {
      "displayName": "Adeela Islam",
      "userId": "03687650921686729008"
     },
     "user_tz": -300
    },
    "id": "CHh3zsUa9Fvr",
    "outputId": "caf3cdd3-f8c2-4374-94b5-f5a08cde34d3"
   },
   "outputs": [
    {
     "data": {
      "image/png": "[encoded data removed]",
      "text/plain": [
       "<Figure size 720x360 with 1 Axes>"
      ]
     },
     "metadata": {
      "needs_background": "light"
     },
     "output_type": "display_data"
    }
   ],
   "source": [
    "# Plotting samples from data to check if data has been read successfully\n",
    "img_number = 65\n",
    "plt.figure(figsize=[10,5])\n",
    "plt.imshow(images[img_number,:,:])\n",
    "plt.title(\"Ground Truth : {}\".format(inv_name_mapping_dict[labels[img_number]]))\n",
    "plt.show()"
   ]
  },
  {
   "cell_type": "code",
   "execution_count": 12,
   "metadata": {
    "colab": {
     "base_uri": "https://localhost:8080/",
     "height": 336
    },
    "executionInfo": {
     "elapsed": 61,
     "status": "ok",
     "timestamp": 1654043484023,
     "user": {
      "displayName": "Adeela Islam",
      "userId": "03687650921686729008"
     },
     "user_tz": -300
    },
    "id": "jT4__xbX9IvH",
    "outputId": "21aabdd4-58b1-4075-9e92-4ae48f1d0087"
   },
   "outputs": [
    {
     "data": {
      "image/png": "[encoded data removed]",
      "text/plain": [
       "<Figure size 720x360 with 1 Axes>"
      ]
     },
     "metadata": {
      "needs_background": "light"
     },
     "output_type": "display_data"
    }
   ],
   "source": [
    "# Plotting samples from data to check if data has been read successfully\n",
    "img_number = 705\n",
    "plt.figure(figsize=[10,5])\n",
    "plt.imshow(images[img_number,:,:])\n",
    "plt.title(\"Ground Truth : {}\".format(inv_name_mapping_dict[labels[img_number]]))\n",
    "plt.show()"
   ]
  },
  {
   "cell_type": "code",
   "execution_count": 13,
   "metadata": {
    "colab": {
     "base_uri": "https://localhost:8080/",
     "height": 336
    },
    "executionInfo": {
     "elapsed": 3071,
     "status": "ok",
     "timestamp": 1654043487071,
     "user": {
      "displayName": "Adeela Islam",
      "userId": "03687650921686729008"
     },
     "user_tz": -300
    },
    "id": "tcFU0gaYVghY",
    "outputId": "22dd7fc2-4c26-449b-8152-32511654dbbd"
   },
   "outputs": [
    {
     "data": {
      "image/png": "[encoded data removed]",
      "text/plain": [
       "<Figure size 720x360 with 1 Axes>"
      ]
     },
     "metadata": {
      "needs_background": "light"
     },
     "output_type": "display_data"
    }
   ],
   "source": [
    "# Plotting samples from data to check if data has been read successfully\n",
    "img_number = 2105\n",
    "plt.figure(figsize=[10,5])\n",
    "plt.imshow(images[img_number,:,:])\n",
    "plt.title(\"Ground Truth : {}\".format(inv_name_mapping_dict[labels[img_number]]))\n",
    "plt.show()"
   ]
  },
  {
   "cell_type": "code",
   "execution_count": 14,
   "metadata": {
    "colab": {
     "base_uri": "https://localhost:8080/",
     "height": 336
    },
    "executionInfo": {
     "elapsed": 42,
     "status": "ok",
     "timestamp": 1654043487075,
     "user": {
      "displayName": "Adeela Islam",
      "userId": "03687650921686729008"
     },
     "user_tz": -300
    },
    "id": "MrfQYvsVU5P9",
    "outputId": "aaeebc46-babc-496c-f9aa-2d420137499d"
   },
   "outputs": [
    {
     "data": {
      "image/png": "[encoded data removed]",
      "text/plain": [
       "<Figure size 720x360 with 1 Axes>"
      ]
     },
     "metadata": {
      "needs_background": "light"
     },
     "output_type": "display_data"
    }
   ],
   "source": [
    "# Plotting samples from data to check if data has been read successfully\n",
    "img_number = 3400\n",
    "plt.figure(figsize=[10,5])\n",
    "plt.imshow(images[img_number,:,:])\n",
    "plt.title(\"Ground Truth : {}\".format(inv_name_mapping_dict[labels[img_number]]))\n",
    "plt.show()"
   ]
  },
  {
   "cell_type": "code",
   "execution_count": 15,
   "metadata": {
    "colab": {
     "base_uri": "https://localhost:8080/"
    },
    "executionInfo": {
     "elapsed": 37,
     "status": "ok",
     "timestamp": 1654043487077,
     "user": {
      "displayName": "Adeela Islam",
      "userId": "03687650921686729008"
     },
     "user_tz": -300
    },
    "id": "cRUGwSJn85Sl",
    "outputId": "7cd3a118-1a6f-4b98-c5c1-bd23ec96960c"
   },
   "outputs": [
    {
     "name": "stdout",
     "output_type": "stream",
     "text": [
      "Total number of outputs :  5\n",
      "Output classes :  [0 1 2 3 4]\n"
     ]
    }
   ],
   "source": [
    "# Find the unique numbers from the train labels\n",
    "classes = np.unique(labels)\n",
    "classes_num = len(classes)\n",
    "print('Total number of outputs : ', classes_num)\n",
    "print('Output classes : ', classes)"
   ]
  },
  {
   "cell_type": "code",
   "execution_count": 16,
   "metadata": {
    "id": "fZ_9M1qhD-ak"
   },
   "outputs": [],
   "source": [
    "# Normalize training image pixels\n",
    "images = np.array(images) / 255"
   ]
  },
  {
   "cell_type": "code",
   "execution_count": 17,
   "metadata": {
    "id": "9sK2A1sz9g1X"
   },
   "outputs": [],
   "source": [
    "# Change the labels from integer to categorical data\n",
    "labels_one_hot = to_categorical(labels)"
   ]
  },
  {
   "cell_type": "code",
   "execution_count": 18,
   "metadata": {
    "colab": {
     "base_uri": "https://localhost:8080/"
    },
    "executionInfo": {
     "elapsed": 9,
     "status": "ok",
     "timestamp": 1654042234402,
     "user": {
      "displayName": "Adeela Islam",
      "userId": "03687650921686729008"
     },
     "user_tz": -300
    },
    "id": "E4QVeuVg8ewn",
    "outputId": "6673e4d9-25e2-4eb7-860e-b8070c892298"
   },
   "outputs": [
    {
     "data": {
      "text/plain": [
       "1"
      ]
     },
     "execution_count": 18,
     "metadata": {},
     "output_type": "execute_result"
    }
   ],
   "source": [
    "labels[3305]"
   ]
  },
  {
   "cell_type": "code",
   "execution_count": 19,
   "metadata": {
    "colab": {
     "base_uri": "https://localhost:8080/"
    },
    "executionInfo": {
     "elapsed": 4,
     "status": "ok",
     "timestamp": 1654042237581,
     "user": {
      "displayName": "Adeela Islam",
      "userId": "03687650921686729008"
     },
     "user_tz": -300
    },
    "id": "KKOm5hpV4t-Z",
    "outputId": "97b349f9-5e57-4aa1-cfdc-b031cec672f6"
   },
   "outputs": [
    {
     "data": {
      "text/plain": [
       "array([0., 1., 0., 0., 0.], dtype=float32)"
      ]
     },
     "execution_count": 19,
     "metadata": {},
     "output_type": "execute_result"
    }
   ],
   "source": [
    "labels_one_hot[3305]"
   ]
  },
  {
   "cell_type": "markdown",
   "metadata": {
    "id": "z_jWSlwXZtnK"
   },
   "source": [
    "**Shuffling and Splittng Dataset**"
   ]
  },
  {
   "cell_type": "code",
   "execution_count": 20,
   "metadata": {
    "colab": {
     "base_uri": "https://localhost:8080/"
    },
    "executionInfo": {
     "elapsed": 526,
     "status": "ok",
     "timestamp": 1654043487575,
     "user": {
      "displayName": "Adeela Islam",
      "userId": "03687650921686729008"
     },
     "user_tz": -300
    },
    "id": "fs37J7e94AUU",
    "outputId": "409da132-a1a8-4b06-a672-df07c42e0c47"
   },
   "outputs": [
    {
     "name": "stdout",
     "output_type": "stream",
     "text": [
      "Training data shape :  (8000, 150, 150, 3) (8000, 5)\n",
      "Testing data shape :  (2000, 150, 150, 3) (2000, 5)\n"
     ]
    }
   ],
   "source": [
    "# Shuffling and Splittng Dataset\n",
    "from sklearn.model_selection import train_test_split\n",
    "\n",
    "train_images, test_images, train_labels, test_labels = train_test_split(images, labels_one_hot, test_size=0.20, shuffle=True, random_state=0)\n",
    "\n",
    "\n",
    "print('Training data shape : ', train_images.shape, train_labels.shape)\n",
    "print('Testing data shape : ', test_images.shape, test_labels.shape)"
   ]
  },
  {
   "cell_type": "markdown",
   "metadata": {
    "id": "a7V_GgdI--LR"
   },
   "source": [
    "**Design the Network Architecure for Convolutional Neural Network**\n",
    "\n",
    "\n",
    "* Getting a pretrained Feature Extractor\n",
    "* Removing its Fully-Connected layers and attaching our own (To exclude the default classifier we have to set argument include_top to false)"
   ]
  },
  {
   "cell_type": "markdown",
   "metadata": {
    "id": "mWQw4aJV4FiA"
   },
   "source": [
    "Attaching our own classifier"
   ]
  },
  {
   "cell_type": "code",
   "execution_count": 55,
   "metadata": {
    "colab": {
     "base_uri": "https://localhost:8080/"
    },
    "executionInfo": {
     "elapsed": 16,
     "status": "ok",
     "timestamp": 1654043487576,
     "user": {
      "displayName": "Adeela Islam",
      "userId": "03687650921686729008"
     },
     "user_tz": -300
    },
    "id": "kMDRmq2_9qAc",
    "outputId": "93a7e720-cb6f-4a51-a9bb-54e675ee47bf"
   },
   "outputs": [
    {
     "name": "stdout",
     "output_type": "stream",
     "text": [
      "WARNING:tensorflow:`input_shape` is undefined or non-square, or `rows` is not in [96, 128, 160, 192, 224]. Weights for input shape (224, 224) will be loaded as the default.\n"
     ]
    },
    {
     "name": "stderr",
     "output_type": "stream",
     "text": [
      "WARNING:tensorflow:`input_shape` is undefined or non-square, or `rows` is not in [96, 128, 160, 192, 224]. Weights for input shape (224, 224) will be loaded as the default.\n"
     ]
    }
   ],
   "source": [
    "import keras\n",
    "from keras.models import Sequential\n",
    "from keras.layers import Dense, Flatten\n",
    "\n",
    "\"\"\"\n",
    "Pre-trained model examples are as follows:\n",
    "\n",
    "\n",
    "pretrained_model = tf.keras.applications.MobileNetV2(input_shape=(img_size, img_size, 3), include_top=False)\n",
    "pretrained_model = tf.keras.applications.VGG16(weights='imagenet', include_top=False ,input_shape=(img_size, img_size, 3))\n",
    "pretrained_model = tf.keras.applications.ResNet50(weights='imagenet', include_top=False, input_shape=(img_size, img_size, 3))\n",
    "pretrained_model = tf.keras.applications.MobileNet(weights='imagenet', include_top=False, input_shape=(img_size, img_size, 3))\n",
    "\"\"\"\n",
    "\n",
    "pretrained_model = tf.keras.applications.MobileNetV2(input_shape=(img_size, img_size, 3), include_top=False)\n",
    "pretrained_model.trainable = False\n",
    "\n",
    "model = Sequential()\n",
    "model.add(pretrained_model)\n",
    "model.add(Flatten())\n",
    "model.add(Dense(classes_num, activation=\"softmax\"))"
   ]
  },
  {
   "cell_type": "markdown",
   "metadata": {
    "id": "IIH_6Rxm_ChV"
   },
   "source": [
    "\n",
    "\n",
    "**Configure the model training time parameters**"
   ]
  },
  {
   "cell_type": "code",
   "execution_count": 56,
   "metadata": {
    "id": "R_FRjhZ49u-B"
   },
   "outputs": [],
   "source": [
    "model.compile(optimizer='adam', loss='categorical_crossentropy', metrics=['accuracy'])"
   ]
  },
  {
   "cell_type": "markdown",
   "metadata": {
    "id": "4D5fYNWO_EvO"
   },
   "source": [
    "**Train the Model**"
   ]
  },
  {
   "cell_type": "code",
   "execution_count": 72,
   "metadata": {
    "colab": {
     "base_uri": "https://localhost:8080/"
    },
    "executionInfo": {
     "elapsed": 506256,
     "status": "ok",
     "timestamp": 1654043993826,
     "user": {
      "displayName": "Adeela Islam",
      "userId": "03687650921686729008"
     },
     "user_tz": -300
    },
    "id": "tQ6-qE7G9xmA",
    "outputId": "fa3edb80-98da-4230-8e6f-e41491ff439d"
   },
   "outputs": [
    {
     "name": "stdout",
     "output_type": "stream",
     "text": [
      "125/125 [==============================] - 106s 846ms/step - loss: 0.3025 - accuracy: 0.9015 - val_loss: 0.3639 - val_accuracy: 0.8745\n"
     ]
    }
   ],
   "source": [
    "history = model.fit(train_images, train_labels, batch_size=64,  epochs=1, verbose=1, \n",
    "                   validation_data=(test_images, test_labels))"
   ]
  },
  {
   "cell_type": "markdown",
   "metadata": {
    "id": "srsgl8M2_H8b"
   },
   "source": [
    "**Evaluate the Trained Model on Testing Data**"
   ]
  },
  {
   "cell_type": "code",
   "execution_count": 71,
   "metadata": {
    "colab": {
     "base_uri": "https://localhost:8080/"
    },
    "executionInfo": {
     "elapsed": 10838,
     "status": "ok",
     "timestamp": 1654044015664,
     "user": {
      "displayName": "Adeela Islam",
      "userId": "03687650921686729008"
     },
     "user_tz": -300
    },
    "id": "FOdYSGHT91UE",
    "outputId": "b2681953-654c-4203-aa7e-9f775ad64d8b"
   },
   "outputs": [
    {
     "name": "stdout",
     "output_type": "stream",
     "text": [
      "63/63 [==============================] - 22s 354ms/step - loss: 0.2744 - accuracy: 0.9135\n",
      "Evaluation result on Test Data : Loss = 0.27438536286354065, accuracy = 91.35000109672546%\n"
     ]
    }
   ],
   "source": [
    "[test_loss, test_acc] = model.evaluate(test_images, test_labels)\n",
    "print(\"Evaluation result on Test Data : Loss = {}, accuracy = {}%\".format(test_loss, test_acc*100))"
   ]
  },
  {
   "cell_type": "code",
   "execution_count": 62,
   "metadata": {
    "colab": {
     "base_uri": "https://localhost:8080/"
    },
    "executionInfo": {
     "elapsed": 42874,
     "status": "ok",
     "timestamp": 1654044064187,
     "user": {
      "displayName": "Adeela Islam",
      "userId": "03687650921686729008"
     },
     "user_tz": -300
    },
    "id": "E7CNyyWhXsP9",
    "outputId": "3b3d601f-7b04-4170-f2a9-0506e0f38248"
   },
   "outputs": [
    {
     "name": "stdout",
     "output_type": "stream",
     "text": [
      "250/250 [==============================] - 90s 359ms/step - loss: 0.4021 - accuracy: 0.8606\n",
      "Evaluation result on train Data : Loss = 0.4020693898200989, accuracy = 86.06250286102295%\n"
     ]
    }
   ],
   "source": [
    "[train_loss, train_acc] = model.evaluate(train_images, train_labels)\n",
    "print(\"Evaluation result on train Data : Loss = {}, accuracy = {}%\".format(train_loss, train_acc*100))"
   ]
  },
  {
   "cell_type": "markdown",
   "metadata": {
    "id": "nVpg3WjXYdwD"
   },
   "source": [
    "**Save Trained Model**"
   ]
  },
  {
   "cell_type": "code",
   "execution_count": 69,
   "metadata": {
    "id": "TmMKyUm6Yg0p"
   },
   "outputs": [],
   "source": [
    "model_path = 'model/'\n",
    "\n",
    "model.save(model_path+'MobileNetV2_Batch128_epochs10_data2k_91acc_Sketch_model.h5')"
   ]
  },
  {
   "cell_type": "markdown",
   "metadata": {
    "id": "2SIGBfc5_JoZ"
   },
   "source": [
    "**Display Loss and Accuracy Plots**"
   ]
  },
  {
   "cell_type": "code",
   "execution_count": 73,
   "metadata": {
    "colab": {
     "base_uri": "https://localhost:8080/",
     "height": 805
    },
    "executionInfo": {
     "elapsed": 823,
     "status": "ok",
     "timestamp": 1654044078311,
     "user": {
      "displayName": "Adeela Islam",
      "userId": "03687650921686729008"
     },
     "user_tz": -300
    },
    "id": "t8g9Hq7P95gM",
    "outputId": "8c0c115e-363c-4fa8-9a18-f03edf0f8d9a"
   },
   "outputs": [
    {
     "data": {
      "image/png": "[encoded data removed]",
      "text/plain": [
       "<Figure size 576x432 with 1 Axes>"
      ]
     },
     "metadata": {
      "needs_background": "light"
     },
     "output_type": "display_data"
    },
    {
     "data": {
      "image/png": "[encoded data removed]",
      "text/plain": [
       "<Figure size 576x432 with 1 Axes>"
      ]
     },
     "metadata": {
      "needs_background": "light"
     },
     "output_type": "display_data"
    }
   ],
   "source": [
    "#Plot the Loss Curves\n",
    "plt.figure(figsize=[8,6])\n",
    "plt.plot(history.history['loss'],'r',linewidth=3.0)\n",
    "plt.plot(history.history['val_loss'],'b',linewidth=3.0)\n",
    "plt.legend(['Training loss', 'Validation Loss'],fontsize=18)\n",
    "plt.xlabel('Epochs ',fontsize=16)\n",
    "plt.ylabel('Loss',fontsize=16)\n",
    "plt.title('Loss Curves',fontsize=16)\n",
    "plt.show()\n",
    "\n",
    "#Plot the Accuracy Curves\n",
    "plt.figure(figsize=[8,6])\n",
    "plt.plot(history.history['accuracy'],'r',linewidth=3.0)\n",
    "plt.plot(history.history['val_accuracy'],'b',linewidth=3.0)\n",
    "plt.legend(['Training Accuracy', 'Validation Accuracy'],fontsize=18)\n",
    "plt.xlabel('Epochs ',fontsize=16)\n",
    "plt.ylabel('Accuracy',fontsize=16)\n",
    "plt.title('Accuracy Curves',fontsize=16)\n",
    "plt.show()"
   ]
  },
  {
   "cell_type": "markdown",
   "metadata": {
    "id": "gSmw1LiD_TSc"
   },
   "source": [
    "**Test the Trained Model on Testing Data: <br/>Testing a single image**"
   ]
  },
  {
   "cell_type": "code",
   "execution_count": 8,
   "metadata": {},
   "outputs": [],
   "source": [
    "from keras.models import load_model\n",
    "model = load_model('model/MobileNetV2_Batch128_epochs10_data2k_91acc_Sketch_model.h5')\n"
   ]
  },
  {
   "cell_type": "code",
   "execution_count": 45,
   "metadata": {},
   "outputs": [],
   "source": [
    "#canvas code\n",
    "\n",
    "\n",
    "#making an array of zeroes \n",
    "canvas=np.zeros((650,650,3), np.uint8)\n",
    "#changing the background color to white\n",
    "canvas.fill(255)\n",
    "#initializing some global varaibles\n",
    "x=0\n",
    "y=0\n",
    "count=0\n",
    "sketching=False"
   ]
  },
  {
   "cell_type": "code",
   "execution_count": 46,
   "metadata": {},
   "outputs": [],
   "source": [
    "# mouse callback function\n",
    "def sketch(event,current_x,current_y,flags,param):\n",
    "    global x, y, sketching\n",
    "#left button pressing event\n",
    "    if event==cv2.EVENT_LBUTTONDOWN:\n",
    "        x=current_x\n",
    "        y=current_y\n",
    "        sketching=True\n",
    "#mouse moving event\n",
    "    elif event==cv2.EVENT_MOUSEMOVE:\n",
    "        if sketching:\n",
    "            #9 is pointer color i.e., black\n",
    "            cv2.line(canvas, (current_x,current_y),(x,y),9,thickness=2)\n",
    "            x,y=current_x,current_y\n",
    "#left button releasing event\n",
    "    elif event==cv2.EVENT_LBUTTONUP:\n",
    "        sketching=False"
   ]
  },
  {
   "cell_type": "code",
   "execution_count": 47,
   "metadata": {},
   "outputs": [],
   "source": [
    "\n",
    "cv2.imshow(\"CV Project->Press 'a' to save image and 'x' to close window\", canvas)\n",
    "#binding mouse with canvas\n",
    "cv2.setMouseCallback(\"CV Project->Press 'a' to save image and 'x' to close window\",sketch)\n",
    "#infinite drawing loop\n",
    "while True:\n",
    "    cv2.imshow(\"CV Project->Press 'a' to save image and 'x' to close window\", canvas)\n",
    "    r=str(random.randint(0,99999))\n",
    "    if cv2.waitKey(33) == ord('a'):\n",
    "        directory=r'C:\\Users\\MajidFareed\\Downloads\\Work\\content'\n",
    "        os.chdir(directory)\n",
    "        cv2.imwrite('Saved-'+r+'.png',canvas)\n",
    "    elif cv2.waitKey(27)==ord('x'):\n",
    "        break\n",
    "cv2.destroyAllWindows()"
   ]
  },
  {
   "cell_type": "code",
   "execution_count": 48,
   "metadata": {},
   "outputs": [
    {
     "name": "stdout",
     "output_type": "stream",
     "text": [
      "1/1 [==============================] - 0s 63ms/step\n",
      "Model prediction: candle\n"
     ]
    },
    {
     "data": {
      "image/png": "[encoded data removed]",
      "text/plain": [
       "<Figure size 432x288 with 1 Axes>"
      ]
     },
     "metadata": {
      "needs_background": "light"
     },
     "output_type": "display_data"
    }
   ],
   "source": [
    "#code for loading and testing the image\n",
    "img = plt.imread(\"Saved-92663.png\")\n",
    "img = cv2.resize(img,(150,150))\n",
    "plt.imshow(img)\n",
    "img = img/255\n",
    "img = np.expand_dims(img, axis=0)\n",
    "prediction = inv_name_mapping_dict[np.argmax(model.predict(img)[0])]\n",
    "print(\"Model prediction: {}\".format(prediction))\n"
   ]
  },
  {
   "cell_type": "code",
   "execution_count": 10,
   "metadata": {
    "colab": {
     "base_uri": "https://localhost:8080/",
     "height": 285
    },
    "executionInfo": {
     "elapsed": 1160,
     "status": "ok",
     "timestamp": 1654044135896,
     "user": {
      "displayName": "Adeela Islam",
      "userId": "03687650921686729008"
     },
     "user_tz": -300
    },
    "id": "ojt7TiXqtdL2",
    "outputId": "090cfd41-aa5b-4a55-a8a7-e675c053256a"
   },
   "outputs": [
    {
     "ename": "NameError",
     "evalue": "name 'test_single_image' is not defined",
     "output_type": "error",
     "traceback": [
      "\u001b[1;31m---------------------------------------------------------------------------\u001b[0m",
      "\u001b[1;31mNameError\u001b[0m                                 Traceback (most recent call last)",
      "\u001b[1;32mC:\\Users\\MAJIDF~1\\AppData\\Local\\Temp/ipykernel_19788/4097489287.py\u001b[0m in \u001b[0;36m<module>\u001b[1;34m\u001b[0m\n\u001b[1;32m----> 1\u001b[1;33m \u001b[0mtest_single_image\u001b[0m\u001b[1;33m(\u001b[0m\u001b[0mtest_img_number\u001b[0m\u001b[1;33m=\u001b[0m\u001b[1;36m55\u001b[0m\u001b[1;33m)\u001b[0m\u001b[1;33m\u001b[0m\u001b[1;33m\u001b[0m\u001b[0m\n\u001b[0m",
      "\u001b[1;31mNameError\u001b[0m: name 'test_single_image' is not defined"
     ]
    }
   ],
   "source": [
    "test_single_image(test_img_number=55)"
   ]
  },
  {
   "cell_type": "code",
   "execution_count": null,
   "metadata": {},
   "outputs": [],
   "source": []
  }
 ],
 "metadata": {
  "colab": {
   "collapsed_sections": [],
   "name": "Transfer_Learning_MobileNet.ipynb",
   "provenance": []
  },
  "kernelspec": {
   "display_name": "Python 3 (ipykernel)",
   "language": "python",
   "name": "python3"
  },
  "language_info": {
   "codemirror_mode": {
    "name": "ipython",
    "version": 3
   },
   "file_extension": ".py",
   "mimetype": "text/x-python",
   "name": "python",
   "nbconvert_exporter": "python",
   "pygments_lexer": "ipython3",
   "version": "3.9.7"
  }
 },
 "nbformat": 4,
 "nbformat_minor": 1
}
